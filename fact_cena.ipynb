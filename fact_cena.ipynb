{
 "cells": [
  {
   "cell_type": "markdown",
   "metadata": {},
   "source": [
    "### Dimenze pro značky vod"
   ]
  },
  {
   "cell_type": "code",
   "execution_count": null,
   "metadata": {},
   "outputs": [
    {
     "name": "stdout",
     "output_type": "stream",
     "text": [
      "   ID_znacka Nazev_znacky\n",
      "0          1    Aqua Anna\n",
      "1          2       Natura\n",
      "2          3       Nartes\n",
      "3          4  Aquila Baby\n",
      "4          5       Fromin\n",
      "5          6        Rajec\n"
     ]
    }
   ],
   "source": [
    "import pandas as pd\n",
    "\n",
    "znacky_seznam = [ 'Aqua Anna', 'Natura', 'Nartes', 'Aquila Baby', 'Fromin', 'Rajec']\n",
    "# Create dimensional table for bottled water\n",
    "dim_znacky = {\n",
    "    'ID_znacka': [x for x in range(1, len(znacky_seznam) + 1)],\n",
    "    'Nazev_znacky': znacky_seznam\n",
    "}\n",
    "df_znacky = pd.DataFrame(dim_znacky)\n",
    "\n",
    "dim_znacky_tab = df_znacky.to_csv('./output_files/dim_znacky_tab.csv', index=False)"
   ]
  },
  {
   "cell_type": "markdown",
   "metadata": {},
   "source": [
    "### Dimenze pro typ vod"
   ]
  },
  {
   "cell_type": "code",
   "execution_count": 34,
   "metadata": {},
   "outputs": [
    {
     "name": "stdout",
     "output_type": "stream",
     "text": [
      "   ID_typ         Typ\n",
      "0       1  kohoutková\n",
      "1       2      balená\n"
     ]
    }
   ],
   "source": [
    "typ_vody = ['kohoutková', 'balená']\n",
    "dim_typ_vody = {\n",
    "    'ID_typ': [x for x in range(1, len(typ_vody) + 1)],\n",
    "    'Typ': typ_vody\n",
    "}\n",
    "df_typ = pd.DataFrame(dim_typ_vody)\n",
    "print(df_typ)\n",
    "dim_typ_tab = df_typ.to_csv('./output_files/dim_typ_tab.csv', index=False)"
   ]
  },
  {
   "cell_type": "markdown",
   "metadata": {},
   "source": [
    "### Spojování tabulek přes id_district"
   ]
  },
  {
   "cell_type": "code",
   "execution_count": 35,
   "metadata": {},
   "outputs": [],
   "source": [
    "znacky_cena = {\n",
    "    'Aqua Anna': {\n",
    "        \"ID_origin\": 77,\n",
    "        \"Price_per_1.5\": 17,\n",
    "        \"Price_per_l\" : 11.3\n",
    "        }, \n",
    "    'Natura': {\n",
    "        \"ID_origin\": 78,\n",
    "        \"Price_per_1.5\": 18.4, \n",
    "        \"Price_per_l\": 12.3\n",
    "        },\n",
    "    'Nartes' : {\n",
    "        \"ID_origin\": 79,\n",
    "        \"Price_per_1.5\": 24,\n",
    "        \"Price_per_l\": 16\n",
    "        },\n",
    "    'Aquila Baby': {\n",
    "        \"ID_origin\": 80,\n",
    "        \"Price_per_1.5\": 21.1,\n",
    "        \"Price_per_l\": 14.1 \n",
    "        },\n",
    "    'Fromin': {\n",
    "        \"ID_origin\": 81,\n",
    "        \"Price_per_1.5\": 53.4,\n",
    "        \"Price_per_l\":  35.6\n",
    "    },\n",
    "    'Rajec': {\n",
    "        \"ID_origin\": 82,\n",
    "        \"Price_per_1.5\": 22,\n",
    "        \"Price_per_l\": 14.7\n",
    "        }\n",
    "}\n"
   ]
  },
  {
   "cell_type": "code",
   "execution_count": 36,
   "metadata": {},
   "outputs": [
    {
     "name": "stdout",
     "output_type": "stream",
     "text": [
      "             ID_origin  Price_per_l\n",
      "Aqua Anna           77         11.3\n",
      "Natura              78         12.3\n",
      "Nartes              79         16.0\n",
      "Aquila Baby         80         14.1\n",
      "Fromin              81         35.6\n",
      "Rajec               82         14.7\n"
     ]
    }
   ],
   "source": [
    "import numpy as np\n",
    "znacky_cena = pd.DataFrame(znacky_cena).T\n",
    "znacky_cena['ID_origin'] = znacky_cena['ID_origin'].apply(np.int64)\n",
    "\n",
    "znacky_cena.drop(columns=['Price_per_1.5'], inplace=True)\n",
    "print(znacky_cena)\n",
    "df_znacky_cena = znacky_cena.to_csv('./output_files/fact_cena_1.csv')"
   ]
  }
 ],
 "metadata": {
  "kernelspec": {
   "display_name": "Python 3",
   "language": "python",
   "name": "python3"
  },
  "language_info": {
   "codemirror_mode": {
    "name": "ipython",
    "version": 3
   },
   "file_extension": ".py",
   "mimetype": "text/x-python",
   "name": "python",
   "nbconvert_exporter": "python",
   "pygments_lexer": "ipython3",
   "version": "3.12.4"
  }
 },
 "nbformat": 4,
 "nbformat_minor": 2
}
